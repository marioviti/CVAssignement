{
 "cells": [
  {
   "cell_type": "code",
   "execution_count": 1,
   "id": "promotional-holocaust",
   "metadata": {},
   "outputs": [],
   "source": [
    "# All imports\n",
    "\n",
    "import numpy as np\n",
    "import os\n",
    "from tqdm import tqdm\n",
    "\n",
    "import matplotlib\n",
    "import matplotlib.pyplot as plt\n",
    "\n",
    "import torch as th\n",
    "import torch.nn as nn\n",
    "import torch.nn.functional as F\n",
    "\n",
    "import torchvision\n",
    "import torchvision.transforms as transforms\n",
    "from torch.utils.data import DataLoader\n",
    "\n",
    "import pytorch_lightning as pl\n",
    "from pytorch_lightning import loggers as pl_loggers\n",
    "from pytorch_lightning.callbacks import ModelCheckpoint\n",
    "\n",
    "from sklearn.manifold import TSNE"
   ]
  },
  {
   "cell_type": "code",
   "execution_count": 55,
   "id": "anonymous-tokyo",
   "metadata": {},
   "outputs": [],
   "source": [
    "# Declare encoder decoder and Unet\n",
    "\n",
    "class Encoder(nn.Module):\n",
    "    \n",
    "    def __init__(self, n_layers=5, root_features=8, expansion_factor=2):\n",
    "        super().__init__()\n",
    "        self.output_channels = [root_features]\n",
    "        conv_i = []\n",
    "        bn_i = []\n",
    "        for i in range(n_layers):\n",
    "            in_ch, out_ch = self.output_channels[-1], self.output_channels[-1]*expansion_factor \n",
    "            conv_i += [ nn.Conv2d(in_ch, out_ch, kernel_size=3, padding=1, bias=False) ]\n",
    "            bn_i += [ nn.BatchNorm2d(out_ch) ]\n",
    "            self.output_channels += [out_ch]\n",
    "        self.conv_i = nn.ModuleList(conv_i)\n",
    "        self.bn_i = nn.ModuleList(bn_i)\n",
    "        self.act = nn.LeakyReLU(inplace=True)\n",
    "        \n",
    "    def forward(self,x):\n",
    "        outputs = [x]\n",
    "        for bn,conv in zip(self.bn_i,self.conv_i):\n",
    "            x = self.act(bn(conv(x)))\n",
    "            outputs += [x]\n",
    "            x = x[:,:,::2,::2]\n",
    "        return outputs\n",
    "    \n",
    "class Decoder(nn.Module):\n",
    "    \n",
    "    def __init__(self, encoder_n_layers=5, encoder_root_features=8, encoder_expansion_factor=2, skip=True):\n",
    "        super().__init__()\n",
    "        self.output_channels = [encoder_root_features*encoder_expansion_factor**encoder_n_layers]\n",
    "        self.skip = skip\n",
    "        self.encoder_n_layers = encoder_n_layers\n",
    "        upconv_i = []\n",
    "        conv_i = []\n",
    "        bn_i = []\n",
    "        for i in range(encoder_n_layers-1):\n",
    "            in_ch, out_ch = self.output_channels[-1], self.output_channels[-1]//encoder_expansion_factor \n",
    "            upconv_i += [ nn.ConvTranspose2d(in_ch, out_ch, kernel_size=2*2, stride=2, padding=1) ]\n",
    "            conv_i += [ nn.Conv2d(out_ch, out_ch, kernel_size=3, stride=1, padding=1, bias=False) ]\n",
    "            bn_i += [ nn.BatchNorm2d(out_ch) ]\n",
    "            self.output_channels += [out_ch]\n",
    "        self.upconv_i = nn.ModuleList(upconv_i)\n",
    "        self.bn_i = nn.ModuleList(bn_i)\n",
    "        self.conv_i = nn.ModuleList(conv_i)\n",
    "        self.act = nn.LeakyReLU(inplace=True)\n",
    "        \n",
    "    def forward(self,encoder_outputs):\n",
    "        x = encoder_outputs[-1]\n",
    "        for i in range(self.encoder_n_layers-1):\n",
    "            if self.skip : \n",
    "                x = self.act(self.upconv_i[i](x) + encoder_outputs[-(i+2)])\n",
    "            else : \n",
    "                x = self.act(self.upconv_i[i](x))\n",
    "            x = self.act(self.bn_i[i](self.conv_i[i](x)))\n",
    "        return x\n",
    "    \n",
    "class Unet(nn.Module):\n",
    "    \n",
    "    def __init__(self, input_channels, output_channels, n_layers=5, root_features=8, expansion_factor=2, skip=True):\n",
    "        super().__init__()\n",
    "        self.skip = skip\n",
    "        self.encoder = Encoder(n_layers=n_layers, root_features=root_features, expansion_factor=expansion_factor)\n",
    "        self.decoder = Decoder(encoder_n_layers=n_layers, encoder_root_features=root_features, encoder_expansion_factor=expansion_factor, skip=skip)\n",
    "        self.conv_in = nn.Conv2d(input_channels, root_features, kernel_size=3, padding=1)\n",
    "        self.conv_out = nn.Conv2d(self.decoder.output_channels[-1], output_channels, kernel_size=3, padding=1)\n",
    "        \n",
    "    def encode(self,x):\n",
    "        outputs = self.encoder(self.conv_in(x))\n",
    "        context = outputs[-1]\n",
    "        return context\n",
    "    \n",
    "    def decode(self, context):\n",
    "        x = self.conv_out(self.decoder([context]))\n",
    "        return x\n",
    "    \n",
    "    def forward(self,x):\n",
    "        outputs = self.encoder(self.conv_in(x))\n",
    "        context = outputs[-1]\n",
    "        if self.skip: x = self.conv_out(self.decoder(outputs[-1:]))\n",
    "        else: x = self.conv_out(self.decoder(outputs))\n",
    "        return x, context\n"
   ]
  },
  {
   "cell_type": "code",
   "execution_count": 54,
   "id": "copyrighted-bidding",
   "metadata": {},
   "outputs": [
    {
     "data": {
      "text/plain": [
       "<matplotlib.image.AxesImage at 0x7f7ec0567f50>"
      ]
     },
     "execution_count": 54,
     "metadata": {},
     "output_type": "execute_result"
    },
    {
     "data": {
      "image/png": "[encoded data removed]",
      "text/plain": [
       "<Figure size 432x288 with 2 Axes>"
      ]
     },
     "metadata": {
      "needs_background": "light"
     },
     "output_type": "display_data"
    }
   ],
   "source": [
    "# define data pipeline for train and test\n",
    "\n",
    "resize = torchvision.transforms.Resize([32,32])\n",
    "random_affine = transforms.RandomAffine(degrees=[-10,10], translate=[0.06,0.06], scale=[0.8,1.2], shear=[-20,20])\n",
    "color_jitter = transforms.ColorJitter(brightness=0.5, contrast=0.3, saturation=0.0, hue=0.0)\n",
    "pil2tensor =  transforms.PILToTensor()\n",
    "tensorfloat = transforms.ConvertImageDtype(th.float)\n",
    "\n",
    "def transform(src_image):\n",
    "    src_image = resize(src_image)\n",
    "    src_image_tensor = tensorfloat(pil2tensor(src_image))\n",
    "    dst_image = random_affine(src_image)\n",
    "    dst_image = color_jitter(dst_image)\n",
    "    dst_image_tensor = tensorfloat(pil2tensor(dst_image))\n",
    "    dst_image_tensor += th.rand(dst_image_tensor.shape, dtype=dst_image_tensor.dtype)*0.01\n",
    "    return src_image_tensor, dst_image_tensor\n",
    "\n",
    "def test_transform(src_image):\n",
    "    src_image = resize(src_image)\n",
    "    src_image_tensor = tensorfloat(pil2tensor(src_image))\n",
    "    return src_image_tensor\n",
    "    \n",
    "class NoisyMnist(th.utils.data.Dataset):\n",
    "    def __init__(self, path='.', train=True):\n",
    "        self.dataset = torchvision.datasets.MNIST('.', train=True, transform=transform, download=True)\n",
    "        \n",
    "    def __len__(self): return len(self.dataset)\n",
    "        \n",
    "    def __getitem__(self,idx):\n",
    "        batch,_ = self.dataset[idx]\n",
    "        x,y = batch\n",
    "        return x,y\n",
    "        \n",
    "dataset = NoisyMnist('.', train=True)\n",
    "lengths = [len(dataset)-100,100]\n",
    "train_dataset, valid_dataset = th.utils.data.random_split(dataset, lengths)\n",
    "test_dataset = torchvision.datasets.MNIST('.', train=True, transform=test_transform, download=True)\n",
    "train_dataloader = DataLoader(train_dataset, batch_size=100, shuffle=True)\n",
    "valid_dataloader = DataLoader(valid_dataset, batch_size=10, shuffle=False)"
   ]
  },
  {
   "cell_type": "code",
   "execution_count": null,
   "id": "german-reducing",
   "metadata": {},
   "outputs": [],
   "source": [
    "# Show samples\n",
    "x, y  = train_dataset[np.random.randint(len(train_dataset))]\n",
    "x, y = x.numpy().squeeze(), y.numpy().squeeze()\n",
    "fig,axs = plt.subplots(1,2)\n",
    "axs[0].imshow(x, cmap='gray')\n",
    "axs[1].imshow(y, cmap='gray')"
   ]
  },
  {
   "cell_type": "code",
   "execution_count": 4,
   "id": "adjustable-toolbox",
   "metadata": {},
   "outputs": [],
   "source": [
    "# Define trainer with train/valid folder structure\n",
    "\n",
    "class TrainEvalTrainer(pl.Trainer):\n",
    "    def __init__(self, *args,  train_logger=None, valid_logger=None, **kwargs ):\n",
    "        self.train_logger = train_logger\n",
    "        self.valid_logger = valid_logger\n",
    "        self.validation_log = {}\n",
    "        pl.Trainer.__init__(self, *args, **kwargs)\n",
    "        \n",
    "def create_trainer(log_path, max_epochs=50, auto_lr_find=True, gradient_clip_val=0, save_top_k=-1, check_val_every_n_epoch=1, gpus=1, gpu_choice='auto', limit_train_batches=1.):\n",
    "    os.makedirs(log_path, exist_ok=True)\n",
    "    train_logger = pl_loggers.TensorBoardLogger(os.path.join(log_path,'train'))\n",
    "    valid_logger = pl_loggers.TensorBoardLogger(os.path.join(log_path,'valid'))\n",
    "    checkpoint_callback = ModelCheckpoint(os.path.join(train_logger.log_dir, 'checkpoints'), save_top_k=save_top_k)\n",
    "    trainer = TrainEvalTrainer( max_epochs=max_epochs, gpus=gpus, check_val_every_n_epoch=check_val_every_n_epoch, auto_lr_find=auto_lr_find, \n",
    "                                checkpoint_callback=checkpoint_callback, train_logger=train_logger, valid_logger=valid_logger, \n",
    "                                gradient_clip_val=gradient_clip_val, limit_train_batches=limit_train_batches, logger=False)\n",
    "    \n",
    "    return trainer"
   ]
  },
  {
   "cell_type": "code",
   "execution_count": 6,
   "id": "intended-signature",
   "metadata": {},
   "outputs": [],
   "source": [
    "# Define trainer and main cllbacks\n",
    "\n",
    "matplotlib.use('Agg')\n",
    "\n",
    "class NTXentLoss(nn.Module):\n",
    "    \n",
    "    def __init__(self):\n",
    "        super().__init__()\n",
    "\n",
    "    def forward(self, hidden0, hidden1, temperature0=0.5, temperature1=1.5, normalize=True):\n",
    "        if normalize:\n",
    "            hidden0 = F.normalize(hidden0, p=2, dim=1)\n",
    "            hidden1 = F.normalize(hidden1, p=2, dim=1)\n",
    "        X = hidden0 @ hidden1.T\n",
    "        I = th.eye(X.shape[0], device=X.device)\n",
    "        n = X.shape[0]\n",
    "        A = (1 - I)/(n-1)\n",
    "        S = (I - A)*X\n",
    "        lij = S.sum(axis=0) / temperature0\n",
    "        lji = S.sum(axis=1) / temperature1\n",
    "        logits = th.cat([lij, lji], axis=0)\n",
    "        target = th.ones_like(logits, device=logits.device)\n",
    "        loss = F.binary_cross_entropy_with_logits(logits, target)\n",
    "        return loss  \n",
    "\n",
    "def get_plot(output):\n",
    "    # get first image of each batch\n",
    "    src_x_0 = output['x'][0,0]\n",
    "    dst_x_0 = output['y'][0,0]\n",
    "    pred_src_x_0 = output['pred_y'][0,0]\n",
    "    fig,axs = plt.subplots(1,3)\n",
    "    axs[0].imshow(src_x_0)\n",
    "    axs[0].set_title('x')\n",
    "    axs[1].imshow(dst_x_0)\n",
    "    axs[1].set_title('y')\n",
    "    axs[2].imshow(pred_src_x_0)\n",
    "    axs[2].set_title('pred_y')\n",
    "    return fig\n",
    "\n",
    "class TrainUnet(pl.LightningModule):\n",
    "    \n",
    "    def __init__(self, **kwargs):\n",
    "        super().__init__()\n",
    "        self.unet = Unet(1,1, skip=False)\n",
    "        self.bxe = nn.BCEWithLogitsLoss()\n",
    "        self.nxt = NTXentLoss()\n",
    "\n",
    "    def forward(self, x):\n",
    "        context = self.unet.encode(x)\n",
    "        y = self.unet.decode(context)\n",
    "        return y,context\n",
    "    \n",
    "    def training_epoch_end(self, outputs):\n",
    "        loss = sum([output['loss'] for output in outputs])/len(outputs)\n",
    "        self.trainer.train_logger.experiment.add_scalar('loss',loss,self.current_epoch)\n",
    "        self.trainer.train_logger.experiment.flush()\n",
    "            \n",
    "    def validation_epoch_end(self, outputs):    \n",
    "        for idx,output in enumerate(outputs):\n",
    "            fig = get_plot(output)\n",
    "            self.trainer.valid_logger.experiment.add_figure('{}'.format(idx), fig, global_step=self.trainer.current_epoch)\n",
    "        loss = sum([output['loss'] for output in outputs])/len(outputs)\n",
    "        self.trainer.valid_logger.experiment.add_scalar('loss',loss,self.current_epoch)\n",
    "        self.trainer.valid_logger.experiment.flush()\n",
    "            \n",
    "    def training_step(self, batch, batch_idx):\n",
    "        x, y = batch\n",
    "        pred_y, context_x = self(x)\n",
    "        context_y = self.unet.encode(y)\n",
    "        bs = context_x.shape[0]\n",
    "        context_x = context_x.view(bs,-1)\n",
    "        context_y = context_y.view(bs,-1)\n",
    "        loss = self.bxe(pred_y.view(-1),y.view(-1)) + self.nxt(context_x, context_y)\n",
    "        output = { 'x': x.clone().detach().cpu().numpy(), \n",
    "                   'y': y.clone().detach().cpu().numpy(), \n",
    "                   'pred_y': pred_y.clone().detach().cpu().numpy(), 'loss': loss }\n",
    "        return output\n",
    "\n",
    "    def validation_step(self, batch, batch_idx):\n",
    "        x, y = batch\n",
    "        pred_y, context_x = self(x)\n",
    "        context_y = self.unet.encode(y)\n",
    "        bs = context_x.shape[0]\n",
    "        context_x = context_x.view(bs,-1)\n",
    "        context_y = context_y.view(bs,-1)\n",
    "        loss = self.bxe(pred_y.view(-1),y.view(-1)) + self.nxt(context_x, context_y)\n",
    "        output = { 'x': x.clone().detach().cpu().numpy(), \n",
    "                   'y': y.clone().detach().cpu().numpy(), \n",
    "                   'pred_y': pred_y.clone().detach().cpu().numpy(), 'loss': loss }\n",
    "        return output\n",
    "    \n",
    "    def configure_optimizers(self):\n",
    "        optimizer = th.optim.Adam(self.unet.parameters(), lr=0.001,weight_decay=0.001)\n",
    "        lr_scheduler = th.optim.lr_scheduler.StepLR(optimizer,1,gamma=0.99)\n",
    "        return { 'optimizer': optimizer, 'lr_scheduler': lr_scheduler }\n",
    "\n"
   ]
  },
  {
   "cell_type": "code",
   "execution_count": 7,
   "id": "diverse-congo",
   "metadata": {},
   "outputs": [
    {
     "name": "stderr",
     "output_type": "stream",
     "text": [
      "GPU available: True, used: True\n",
      "TPU available: None, using: 0 TPU cores\n"
     ]
    }
   ],
   "source": [
    "model = TrainUnet()\n",
    "log_path = 'logs'\n",
    "trainer = create_trainer(log_path, max_epochs=100, limit_train_batches=1.0, )\n",
    "#trainer.fit(model, train_dataloader=train_dataloader, val_dataloaders=valid_dataloader)"
   ]
  },
  {
   "cell_type": "code",
   "execution_count": null,
   "id": "average-round",
   "metadata": {},
   "outputs": [],
   "source": [
    "def load_lightning_module(checkpoint_path, model_class):\n",
    "    ckpt = th.load(checkpoint_path)\n",
    "    pretrained_dict = ckpt['state_dict']\n",
    "    model = model_class()\n",
    "    model_dict = model.state_dict()\n",
    "    # 1. filter out unnecessary keys\n",
    "    pretrained_dict = {k: v for k, v in pretrained_dict.items() if k in model_dict}\n",
    "    # 2. overwrite entries in the existing state dict\n",
    "    model_dict.update(pretrained_dict) \n",
    "    # 3. load the new state dict\n",
    "    model.load_state_dict(pretrained_dict, strict=False)\n",
    "    return model"
   ]
  },
  {
   "cell_type": "code",
   "execution_count": 8,
   "id": "owned-cement",
   "metadata": {},
   "outputs": [
    {
     "name": "stdout",
     "output_type": "stream",
     "text": [
      "'logs/train/default/version_4/checkpoints/epoch=31-step=19167.ckpt'\n"
     ]
    }
   ],
   "source": [
    "# Load checkpoint\n",
    "VERSION = 0\n",
    "EPOCH = 99\n",
    "! ls logs/train/default/version_$VERSION/checkpoints/epoch=$EPOCH*"
   ]
  },
  {
   "cell_type": "code",
   "execution_count": 10,
   "id": "entire-dairy",
   "metadata": {},
   "outputs": [],
   "source": [
    "# ckpt_path = <get the path that has been printed>\n",
    "model = load_lightning_module(ckpt_path, TrainUnet)\n",
    "test_dataloader = DataLoader(test_dataset, batch_size=100, shuffle=False)"
   ]
  },
  {
   "cell_type": "code",
   "execution_count": 12,
   "id": "functional-party",
   "metadata": {},
   "outputs": [
    {
     "name": "stderr",
     "output_type": "stream",
     "text": [
      "100%|██████████| 600/600 [00:13<00:00, 45.81it/s]\n"
     ]
    }
   ],
   "source": [
    "model.eval().cuda()\n",
    "all_codes = []\n",
    "all_labels = []\n",
    "all_images = []\n",
    "with th.no_grad():\n",
    "    for batch in tqdm(test_dataloader):\n",
    "        image, label = batch\n",
    "        image = image.cuda()\n",
    "        bs = image.shape[0]\n",
    "        codes = model.unet.encode(image).view(bs,-1)\n",
    "        all_codes += [codes.cpu()]\n",
    "        all_images += [ image.cpu() ]\n",
    "        all_labels += [ label ]\n",
    "\n",
    "all_codes = th.cat(all_codes, axis=0)\n",
    "all_labels = th.cat(all_labels, axis=0)\n",
    "all_images = th.cat(all_images, axis=0)"
   ]
  },
  {
   "cell_type": "code",
   "execution_count": 49,
   "id": "dynamic-disclosure",
   "metadata": {},
   "outputs": [
    {
     "name": "stdout",
     "output_type": "stream",
     "text": [
      "[t-SNE] Computing 61 nearest neighbors...\n",
      "[t-SNE] Indexed 6000 samples in 0.904s...\n",
      "[t-SNE] Computed neighbors for 6000 samples in 10.199s...\n",
      "[t-SNE] Computed conditional probabilities for sample 1000 / 6000\n",
      "[t-SNE] Computed conditional probabilities for sample 2000 / 6000\n",
      "[t-SNE] Computed conditional probabilities for sample 3000 / 6000\n",
      "[t-SNE] Computed conditional probabilities for sample 4000 / 6000\n",
      "[t-SNE] Computed conditional probabilities for sample 5000 / 6000\n",
      "[t-SNE] Computed conditional probabilities for sample 6000 / 6000\n",
      "[t-SNE] Mean sigma: 0.002086\n",
      "[t-SNE] KL divergence after 250 iterations with early exaggeration: 65.624252\n",
      "[t-SNE] KL divergence after 251 iterations: 179769313486231570814527423731704356798070567525844996598917476803157260780028538760589558632766878171540458953514382464234321326889464182768467546703537516986049910576551282076245490090389328944075868508455133942304583236903222948165808559332123348274797826204144723168738177180919299881250404026184124858368.000000\n"
     ]
    }
   ],
   "source": [
    "tsne = TSNE(n_components=2, verbose=1, perplexity=20, n_iter=250)\n",
    "sample_labels = all_labels[::10]\n",
    "sample_manifold = tsne.fit_transform(all_codes[::10])"
   ]
  },
  {
   "cell_type": "code",
   "execution_count": 52,
   "id": "legendary-course",
   "metadata": {},
   "outputs": [
    {
     "data": {
      "text/plain": [
       "<matplotlib.colorbar.Colorbar at 0x7f7ec1ee53d0>"
      ]
     },
     "execution_count": 52,
     "metadata": {},
     "output_type": "execute_result"
    },
    {
     "data": {
      "image/png": "[encoded data removed]",
      "text/plain": [
       "<Figure size 1080x720 with 2 Axes>"
      ]
     },
     "metadata": {
      "needs_background": "light"
     },
     "output_type": "display_data"
    }
   ],
   "source": [
    "fig,axs = plt.subplots(1,1, figsize=(15,10))\n",
    "_ = axs.scatter(sample_manifold[:,0],sample_manifold[:,1],c=sample_labels, cmap='tab10')\n",
    "fig.colorbar(_)\n"
   ]
  },
  {
   "cell_type": "code",
   "execution_count": 15,
   "id": "widespread-hardwood",
   "metadata": {},
   "outputs": [],
   "source": [
    "test_logger = pl_loggers.TensorBoardLogger(os.path.join(log_path,'test'))\n",
    "test_logger.experiment.add_embedding(all_codes, metadata=all_labels, label_img=all_images, global_step=None, tag='default', metadata_header=None)\n"
   ]
  }
 ],
 "metadata": {
  "kernelspec": {
   "display_name": "Python 3",
   "language": "python",
   "name": "python3"
  },
  "language_info": {
   "codemirror_mode": {
    "name": "ipython",
    "version": 3
   },
   "file_extension": ".py",
   "mimetype": "text/x-python",
   "name": "python",
   "nbconvert_exporter": "python",
   "pygments_lexer": "ipython3",
   "version": "3.7.10"
  }
 },
 "nbformat": 4,
 "nbformat_minor": 5
}
